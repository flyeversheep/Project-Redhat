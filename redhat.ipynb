{
 "cells": [
  {
   "cell_type": "markdown",
   "metadata": {},
   "source": [
    "# Red hat customer value predction"
   ]
  },
  {
   "cell_type": "markdown",
   "metadata": {},
   "source": [
    "# Importing data and preprocessing"
   ]
  },
  {
   "cell_type": "code",
   "execution_count": 37,
   "metadata": {
    "collapsed": false
   },
   "outputs": [],
   "source": [
    "import numpy as np\n",
    "import pandas as pd\n",
    "from sklearn.preprocessing import OneHotEncoder\n",
    "from scipy.sparse import hstack\n",
    "import xgboost as xgb\n",
    "from sklearn import cross_validation as cv\n",
    "from sklearn.metrics import auc\n",
    "import os"
   ]
  },
  {
   "cell_type": "code",
   "execution_count": 2,
   "metadata": {
    "collapsed": true
   },
   "outputs": [],
   "source": [
    "#defining function\n",
    "def clean_data(data_set):\n",
    "    clean_feature = ['year_x','month_x','day_x','isweekend_x','year_y','month_y','day_y','isweekend_y','outcome','char_38_y']\n",
    "    colname = data_set.columns\n",
    "    for i in colname:\n",
    "        if i not in clean_feature:\n",
    "            if(data_set[i].dtype == 'object'):\n",
    "                data_set[i] = data_set[i].fillna('type 0')\n",
    "                data_set[i] = data_set[i].apply(lambda x : x.split(' ')[1]).astype(np.int32)\n",
    "            elif(data_set[i].dtype == 'bool'):\n",
    "                data_set[i] = data_set[i].astype(np.int8)\n",
    "    return data_set"
   ]
  },
  {
   "cell_type": "code",
   "execution_count": 14,
   "metadata": {
    "collapsed": false
   },
   "outputs": [],
   "source": [
    "people = pd.read_csv('./input/people.csv',dtype={'people_id':np.str,'char_38':np.int32},\n",
    "                    parse_dates=['date'])\n",
    "act_train = pd.read_csv('./input/act_train.csv',dtype={'people_id':np.str,'activity_id':np.str,'outcome':np.int8},\n",
    "                        parse_dates=['date'])\n",
    "act_test = pd.read_csv('./input/act_test.csv',dtype={'people_id':np.str,'activity_id':np.str},\n",
    "                        parse_dates=['date'])\n",
    "#Taking care of the date \n",
    "people['year'] = people['date'].dt.year\n",
    "people['month'] = people['date'].dt.month\n",
    "people['day'] = people['date'].dt.day\n",
    "people['isweekend'] = (people['date'].dt.weekday>=5).astype(np.int8)\n",
    "people = people.drop('date',axis=1)\n",
    "\n",
    "act_train['year'] = act_train['date'].dt.year\n",
    "act_train['month'] = act_train['date'].dt.month\n",
    "act_train['day'] = act_train['date'].dt.day\n",
    "act_train['isweekend'] = (act_train['date'].dt.weekday>=5).astype(np.int8)\n",
    "act_train = act_train.drop('date',axis=1)\n",
    "\n",
    "act_test['year'] = act_test['date'].dt.year\n",
    "act_test['month'] = act_test['date'].dt.month\n",
    "act_test['day'] = act_test['date'].dt.day\n",
    "act_test['isweekend'] = (act_test['date'].dt.weekday>=5).astype(np.int8)\n",
    "act_test = act_test.drop('date',axis=1)\n",
    "\n",
    "train = act_train.merge(people, on='people_id', how='left', left_index=True)\n",
    "test  = act_test.merge(people, on='people_id', how='left', left_index=True)\n",
    "\n",
    "train = train.drop(['people_id','activity_id'],axis=1)\n",
    "test_activity = test['activity_id']\n",
    "test = test.drop(['people_id','activity_id'],axis=1)\n",
    "clean_data(train)\n",
    "clean_data(test)\n",
    "\n",
    "del act_train,act_test,people"
   ]
  },
  {
   "cell_type": "code",
   "execution_count": 5,
   "metadata": {
    "collapsed": false
   },
   "outputs": [],
   "source": [
    "colname = test.columns\n",
    "category = ['activity_category', 'char_1_x', 'char_2_x', 'char_3_x', 'char_4_x',\n",
    "       'char_5_x', 'char_6_x', 'char_7_x', 'char_8_x', 'char_9_x', 'char_10_x',\n",
    "        'year_x', 'month_x', 'day_x', 'isweekend_x', 'char_1_y',\n",
    "       'group_1', 'char_2_y', 'char_3_y', 'char_4_y', 'char_5_y', 'char_6_y',\n",
    "       'char_7_y', 'char_8_y', 'char_9_y', 'year_y', 'month_y', 'day_y', 'isweekend_y']\n",
    "X_train_total = train[category]\n",
    "X_test_total = test[category]\n",
    "y_train_total = train['outcome']\n",
    "uncategory = []\n",
    "for i in colname:\n",
    "    if i not in category:\n",
    "        uncategory.append(i)\n",
    "\n",
    "ohencoder = OneHotEncoder()\n",
    "X_train_total = ohencoder.fit_transform(X_train_total[category])\n",
    "X_test_total = ohencoder.transform(X_test_total[category])\n",
    "\n",
    "X_train_total = hstack((X_train_total,train[uncategory]))\n",
    "X_test_total = hstack((X_test_total,test[uncategory]))"
   ]
  },
  {
   "cell_type": "code",
   "execution_count": 6,
   "metadata": {
    "collapsed": false
   },
   "outputs": [
    {
     "name": "stdout",
     "output_type": "stream",
     "text": [
      "(2197291, 36845)\n",
      "(2197291,)\n",
      "(498687, 36845)\n"
     ]
    }
   ],
   "source": [
    "print(X_train_total.shape)\n",
    "print(y_train_total.shape)\n",
    "print(X_test_total.shape)"
   ]
  },
  {
   "cell_type": "markdown",
   "metadata": {
    "collapsed": true
   },
   "source": [
    "# Starting learning"
   ]
  },
  {
   "cell_type": "markdown",
   "metadata": {},
   "source": [
    "## XGBoost"
   ]
  },
  {
   "cell_type": "code",
   "execution_count": 42,
   "metadata": {
    "collapsed": false,
    "scrolled": true
   },
   "outputs": [],
   "source": [
    "(X_train,X_val,y_train,y_val) = cv.train_test_split(X_train_total,y_train_total,test_size=0.1,\n",
    "                                                   random_state=1)\n",
    "xg_train = xgb.DMatrix(X_train,label = y_train)\n",
    "xg_test = xgb.DMatrix(X_val,label = y_val)"
   ]
  },
  {
   "cell_type": "code",
   "execution_count": null,
   "metadata": {
    "collapsed": false
   },
   "outputs": [
    {
     "name": "stdout",
     "output_type": "stream",
     "text": [
      "[0]\ttrain-auc:0.908117\ttest-auc:0.907075\n"
     ]
    }
   ],
   "source": [
    "param = {'booster':'gblinear',\n",
    "         'max_depth':10,\n",
    "         'eta':0.05,\n",
    "         'silent':0,\n",
    "         'objective':'binary:logistic',\n",
    "         'nthread':2,\n",
    "         'eval_metric':'auc',\n",
    "         'colsample_bytree':0.8,\n",
    "        #'lambda':5,\n",
    "        #'lambda_bias':0,\n",
    "        #'alpha':1\n",
    "        }\n",
    "num_round = 300\n",
    "watchlist = [(xg_train,'train'),(xg_test,'test')]\n",
    "bst = xgb.train(param,xg_train,num_round,watchlist)\n",
    "ypred = bst.predict(xg_test)\n",
    "val_auc = auc(y_val, ypred)\n",
    "print('logloss val {}'.format(val_auc))\n",
    "del X_train,X_val,y_train,y_val\n",
    "os.system(\"printf '\\a'\")"
   ]
  },
  {
   "cell_type": "markdown",
   "metadata": {},
   "source": [
    "## Training with all data"
   ]
  },
  {
   "cell_type": "code",
   "execution_count": 39,
   "metadata": {
    "collapsed": false
   },
   "outputs": [
    {
     "data": {
      "text/plain": [
       "0"
      ]
     },
     "execution_count": 39,
     "metadata": {},
     "output_type": "execute_result"
    }
   ],
   "source": [
    "#num_round = 20\n",
    "xg_train_total = xgb.DMatrix(X_train_total,label = y_train_total)\n",
    "xg_test_total = xgb.DMatrix(X_test_total)\n",
    "bst = xgb.train(param,xg_train_total,num_round)\n",
    "ypred = bst.predict(xg_test_total)\n",
    "pred_xgb = pd.DataFrame(index = test_activity, data =  ypred ,columns=['outcome'])\n",
    "pred_xgb.to_csv('xgb_result1.csv')\n",
    "os.system(\"printf '\\a'\")"
   ]
  }
 ],
 "metadata": {
  "kernelspec": {
   "display_name": "Python 3",
   "language": "python",
   "name": "python3"
  },
  "language_info": {
   "codemirror_mode": {
    "name": "ipython",
    "version": 3
   },
   "file_extension": ".py",
   "mimetype": "text/x-python",
   "name": "python",
   "nbconvert_exporter": "python",
   "pygments_lexer": "ipython3",
   "version": "3.5.2"
  }
 },
 "nbformat": 4,
 "nbformat_minor": 0
}
